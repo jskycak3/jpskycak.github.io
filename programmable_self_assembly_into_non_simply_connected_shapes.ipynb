{
  "nbformat": 4,
  "nbformat_minor": 0,
  "metadata": {
    "colab": {
      "name": "programmable_self_assembly_into_non-simply-connected_shapes.ipynb",
      "version": "0.3.2",
      "provenance": [],
      "collapsed_sections": []
    },
    "kernelspec": {
      "name": "python2",
      "display_name": "Python 2"
    }
  },
  "cells": [
    {
      "cell_type": "markdown",
      "metadata": {
        "id": "view-in-github",
        "colab_type": "text"
      },
      "source": [
        "[View in Colaboratory](https://colab.research.google.com/github/jpskycak/jpskycak.github.io/blob/master/programmable_self_assembly_into_non_simply_connected_shapes.ipynb)"
      ]
    },
    {
      "metadata": {
        "id": "lULJBcZs-qHm",
        "colab_type": "code",
        "colab": {
          "base_uri": "https://localhost:8080/",
          "height": 696
        },
        "outputId": "cdefed30-2834-410b-f3ba-cf11cd171752"
      },
      "cell_type": "code",
      "source": [
        "import numpy as np\n",
        "import matplotlib.pyplot as plt\n",
        "import itertools\n",
        "import random\n",
        "\n",
        "# initial coordinates for agents\n",
        "L = 10\n",
        "scaling_factor = 5\n",
        "gridshape = (scaling_factor*L,scaling_factor*L)\n",
        "grid = np.zeros(gridshape)\n",
        "grid[L:2*L,L:2*L] = 1\n",
        "plt.imshow(grid)\n",
        "plt.grid(False)\n",
        "plt.show()\n",
        "\n",
        "# make shape\n",
        "shape = np.zeros(gridshape)\n",
        "\n",
        "#shape[:L,:L] = 1\n",
        "\n",
        "shape[L-5:L,L-5:L] = 1\n",
        "shape[2*L:2*L+5,2*L:2*L+5] = 1\n",
        "\n",
        "#shape[L:-3,L:-3] = 1\n",
        "#shape[int(1.25*L):-3,int(1.25*L):-3] = 0 \n",
        "\n",
        "plt.imshow(shape)\n",
        "plt.grid(False)\n",
        "plt.show()\n",
        "\n",
        "shape_coordinates = []\n",
        "for x in range(shape.shape[0]):\n",
        "  for y in range(shape.shape[1]):\n",
        "    if shape[x,y] == 1:\n",
        "      shape_coordinates.append((x,y))\n",
        "shape_coordinates[:5]"
      ],
      "execution_count": 22,
      "outputs": [
        {
          "output_type": "display_data",
          "data": {
            "image/png": "[encoded data removed]",
            "text/plain": [
              "<matplotlib.figure.Figure at 0x7f18c78e5f10>"
            ]
          },
          "metadata": {
            "tags": []
          }
        },
        {
          "output_type": "display_data",
          "data": {
            "image/png": "[encoded data removed]",
            "text/plain": [
              "<matplotlib.figure.Figure at 0x7f18c7797410>"
            ]
          },
          "metadata": {
            "tags": []
          }
        },
        {
          "output_type": "execute_result",
          "data": {
            "text/plain": [
              "[(5, 5), (5, 6), (5, 7), (5, 8), (5, 9)]"
            ]
          },
          "metadata": {
            "tags": []
          },
          "execution_count": 22
        }
      ]
    },
    {
      "metadata": {
        "id": "SqruOrLOCLwy",
        "colab_type": "code",
        "colab": {
          "base_uri": "https://localhost:8080/",
          "height": 123
        },
        "outputId": "0c280efd-8f78-4a20-fcf4-ef98a01c22fd"
      },
      "cell_type": "code",
      "source": [
        "# instantiate agents at initial coordinates\n",
        "# initialize estimated coordinates as true initial coordinates\n",
        "# update_neighbors_and_distances()\n",
        "\n",
        "agents = []\n",
        "\n",
        "for x in range(gridshape[0]):\n",
        "  for y in range(gridshape[1]):\n",
        "    if grid[x,y]==1:\n",
        "      agents.append({'true_coordinates':(x,y),'estimated_coordinates':(x,y),'id':len(agents),'is_source':bool((x,y)==(2*L-1,2*L-1))})\n",
        "\n",
        "def distance_metric(a,b):\n",
        "  return max(abs(a[0]-b[0]),abs(a[1]-b[1]))\n",
        "\n",
        "def in_radius(test_point,center,radius):\n",
        "  out = False\n",
        "  if distance_metric(test_point,center) <= radius:\n",
        "    out = True\n",
        "  return out\n",
        "\n",
        "def get_neighbors_distances_estimations(agent,radius=1):\n",
        "  center = agent['true_coordinates']\n",
        "  neighbors = [i for i,a in enumerate(agents) if in_radius(a['true_coordinates'],center,radius) and a['id'] != agent['id']]\n",
        "  distances = [distance_metric(agents[i]['true_coordinates'],center) for i in neighbors]\n",
        "  estimated_coordinates = agent['estimated_coordinates']\n",
        "  \n",
        "  if len(neighbors)>0:\n",
        "  \n",
        "    neighbors_estimated_coordinates = [agents[n]['estimated_coordinates'] for n in neighbors]\n",
        "    # DEBUG: print 'neighbors for agent id ',agent['id'],' at ',center,'are: ',neighbors\n",
        "    def error_estimated_coordinates(xy):\n",
        "      discrepancies = [d - distance_metric(xy,neighbors_estimated_coordinates[i]) for i,d in enumerate(distances)]\n",
        "      return sum([abs(d) for d in discrepancies])\n",
        "\n",
        "    neighbors_estimated_coordinates_x = [c[0] for c in neighbors_estimated_coordinates]\n",
        "    neighbors_estimated_coordinates_y = [c[1] for c in neighbors_estimated_coordinates]\n",
        "    [min_x, max_x] = [min(neighbors_estimated_coordinates_x), max(neighbors_estimated_coordinates_x)]\n",
        "    [min_y, max_y] = [min(neighbors_estimated_coordinates_y), max(neighbors_estimated_coordinates_y)]\n",
        "    candidate_estimations = list(itertools.product(range(min_x,max_x+1),range(min_y,max_y+1)))\n",
        "    candidate_estimation_errors = [error_estimated_coordinates(xy) for xy in candidate_estimations]\n",
        "\n",
        "    optimal_estimations = [candidate_estimations[i] for i,err in enumerate(candidate_estimation_errors) if err==min(candidate_estimation_errors)]\n",
        "    estimated_coordinates = random.choice(optimal_estimations)\n",
        "  \n",
        "  return [neighbors,distances,estimated_coordinates]\n",
        "\n",
        "\n",
        "for a in agents:\n",
        "  [a['neighbors'],a['distances'],a['estimated_coordinates']] = get_neighbors_distances_estimations(a)\n",
        "  \n",
        "agents[0]"
      ],
      "execution_count": 23,
      "outputs": [
        {
          "output_type": "execute_result",
          "data": {
            "text/plain": [
              "{'distances': [1, 1, 1],\n",
              " 'estimated_coordinates': (10, 10),\n",
              " 'id': 0,\n",
              " 'is_source': False,\n",
              " 'neighbors': [1, 10, 11],\n",
              " 'true_coordinates': (10, 10)}"
            ]
          },
          "metadata": {
            "tags": []
          },
          "execution_count": 23
        }
      ]
    },
    {
      "metadata": {
        "id": "WXLHjhoJx3wz",
        "colab_type": "code",
        "colab": {
          "base_uri": "https://localhost:8080/",
          "height": 141
        },
        "outputId": "71a2ec27-9ada-4cad-8f5b-971b245cc42c"
      },
      "cell_type": "code",
      "source": [
        "# initialize gradient values.\n",
        "\n",
        "for a in agents:\n",
        "  if a['is_source']:\n",
        "    a['gradient_value'] = 0\n",
        "    for neighbor_index in a['neighbors']:\n",
        "      neighbor = agents[neighbor_index]\n",
        "      neighbor['gradient_value'] = 1\n",
        "      \n",
        "def do_all_agents_have_gradient_values():\n",
        "  ans = True\n",
        "  for a in agents:\n",
        "    if 'gradient_value' not in a.keys():\n",
        "      ans = False\n",
        "  return ans\n",
        "\n",
        "while not do_all_agents_have_gradient_values():\n",
        "  for a in agents:\n",
        "    if 'gradient_value' not in a.keys():\n",
        "      neighbors = [agents[i] for i in a['neighbors']]\n",
        "      min_gradient_in_neighbors = 9*10**10\n",
        "      should_assign_gradient_value = False\n",
        "      for neighbor in neighbors:\n",
        "        if 'gradient_value' in neighbor.keys():\n",
        "          min_gradient_in_neighbors = min(neighbor['gradient_value'],min_gradient_in_neighbors)\n",
        "          should_assign_gradient_value = True\n",
        "      if should_assign_gradient_value:\n",
        "        a['gradient_value'] = 1+min_gradient_in_neighbors\n",
        "  \n",
        "agents[0]"
      ],
      "execution_count": 24,
      "outputs": [
        {
          "output_type": "execute_result",
          "data": {
            "text/plain": [
              "{'distances': [1, 1, 1],\n",
              " 'estimated_coordinates': (10, 10),\n",
              " 'gradient_value': 9,\n",
              " 'id': 0,\n",
              " 'is_source': False,\n",
              " 'neighbors': [1, 10, 11],\n",
              " 'true_coordinates': (10, 10)}"
            ]
          },
          "metadata": {
            "tags": []
          },
          "execution_count": 24
        }
      ]
    },
    {
      "metadata": {
        "id": "suTwySBe67rZ",
        "colab_type": "code",
        "colab": {
          "base_uri": "https://localhost:8080/",
          "height": 347
        },
        "outputId": "e6b7de0f-76a2-4d27-ba6a-dcc39c1c3141"
      },
      "cell_type": "code",
      "source": [
        "# check gradient\n",
        "gradient = np.zeros(gridshape)\n",
        "for a in agents:\n",
        "  [x,y] = a['true_coordinates']\n",
        "  gradient[x,y] = a['gradient_value']\n",
        "  \n",
        "plt.imshow(gradient)\n",
        "plt.grid(False)\n",
        "plt.show()"
      ],
      "execution_count": 25,
      "outputs": [
        {
          "output_type": "display_data",
          "data": {
            "image/png": "[encoded data removed]",
            "text/plain": [
              "<matplotlib.figure.Figure at 0x7f18c7bec750>"
            ]
          },
          "metadata": {
            "tags": []
          }
        }
      ]
    },
    {
      "metadata": {
        "id": "6eZtMy4kxquZ",
        "colab_type": "code",
        "colab": {
          "base_uri": "https://localhost:8080/",
          "height": 70
        },
        "outputId": "6da05f1a-a08b-46f1-d001-671e63113974"
      },
      "cell_type": "code",
      "source": [
        "# edge-following\n",
        "\n",
        "def unit_neighbors(agent):\n",
        "  return [n for i,n in enumerate(agent['neighbors']) if agent['distances'][i]==1]\n",
        "\n",
        "#edge_follows = {\n",
        "#    (-1,1):set([(-1,0),(0,1)]),\n",
        "#    (0,1):set([(-1,1),(1,1)]),\n",
        "#    (1,1):set([(0,1),(1,0)]),\n",
        "#    (1,0):set([(1,1),(1,-1)]),\n",
        "#    (1,-1):set([(1,0),(0,-1)]),\n",
        "#    (0,-1):set([(1,-1),(-1,-1)]),\n",
        "#    (-1,-1):set([(0,-1),(-1,0)]),\n",
        "#    (-1,0):set([(-1,-1),(-1,1)])\n",
        "#}\n",
        "\n",
        "edges_follows = {\n",
        "    # enumerate all edges & follows\n",
        "}\n",
        "\n",
        "# 0 1 2\n",
        "# 7 x 3\n",
        "# 6 5 4\n",
        "\n",
        "unit_circle = [(-1,1),(0,1),(1,1),(1,0),(1,-1),(0,-1),(-1,-1),(-1,0)]\n",
        "\n",
        "unit_semicircles = [\n",
        "    [unit_circle[n%8] for n in range(0,4)],\n",
        "    [unit_circle[n%8] for n in range(1,5)],\n",
        "    [unit_circle[n%8] for n in range(2,6)],\n",
        "    [unit_circle[n%8] for n in range(3,7)],\n",
        "    [unit_circle[n%8] for n in range(4,8)],\n",
        "    [unit_circle[n%8] for n in range(5,9)],\n",
        "    [unit_circle[n%8] for n in range(6,10)],\n",
        "    [unit_circle[n%8] for n in range(7,11)]\n",
        "]\n",
        "\n",
        "edge_templates_numbers = {} # only need to consider cases which are actually an edge (i.e. semicircle is open)\n",
        "for n in range(8):\n",
        "  edge_templates_numbers[[n]] = [(n+1)%8, (n-1)%8]\n",
        "\n",
        "\n",
        "edge_templates = {}\n",
        "for k,v in edge_templates_numbers.iteritems():\n",
        "  edge_templates[set([unit_circle[n] for n in k])] = [unit_circle[n] for n in v]\n",
        "\n",
        "def valid_moves(agent):\n",
        "  # if there is a nonoccupied semicircle, then agent can move to one of the follows according to its edge template\n",
        "  \n",
        "  (x,y) = agent['true_coordinates']\n",
        "  neighbor_coordinates = [agents[n]['true_coordinates'] for n in unit_neighbors(agent)]\n",
        "  occupied_displacements = [(dx,dy) for (dx,dy) in unit_circle if (x+dx,y+dy) in neighbor_coordinates]\n",
        "  nonoccupied_displacements = [d for d in unit circle if d not in occupied_displacements]\n",
        "  agent_is_on_edge = any([set(s)<=set(nonoccupied_displacements) for s in unit_semicircles])\n",
        "  \n",
        "  if not agent_is_on_edge:\n",
        "    valid_moves = [(0,0)]\n",
        "  else:\n",
        "    edge_template_moves = edge_templates[set(occupied_displacements)]\n",
        "    nonoccupied_displacements_in_grid = [(dx,dy) for (dx,dy) in nonoccupied_displacements if x+dx in range(gridshape[0]) and y+dy in range(gridshape[1])]\n",
        "    valid_moves = list(set(edge_template_moves).intersection(nonoccupied_displacements_in_grid))\n",
        "    if valid_moves==[]:\n",
        "      valid_moves = [(0,0)]\n",
        "  return valid_moves\n",
        "\n",
        "def estimated_distance_to_shape(agent,prospective_move):\n",
        "  (x,y) = agent['estimated_coordinates']\n",
        "  (dx,dy) = prospective_move\n",
        "  prospective_estimated_coordinates = (x+dx,y+dy)\n",
        "  distances = [distance_metric(prospective_estimated_coordinates,p) for p in shape_coordinates]\n",
        "  return min(distances)\n",
        "\n",
        "def chosen_move(agent,shape_coordinates):\n",
        "  prospective_moves = valid_moves(agent)\n",
        "  prospective_distances = [estimated_distance_to_shape(agent,m) for m in prospective_moves]\n",
        "  min_distance = min(prospective_distances)\n",
        "  optimal_moves = [prospective_moves[i] for i,d in enumerate(prospective_distances) if d==min_distance]\n",
        "  # DEBUG - print 'chosen_displacement - displacements:',displacements\n",
        "  # DEBUG - print 'chosen_displacement - distances:',distances\n",
        "  # DEBUG - print 'chosen_displacement - optimal_displacements:',optimal_displacements\n",
        "  return random.choice(optimal_moves)\n",
        "\n",
        "print valid_moves(agents[-2])\n",
        "print [estimated_distance_to_shape(agents[-2],d) for d in valid_moves(agents[-2])]\n",
        "print chosen_move(agents[-2],shape_coordinates) "
      ],
      "execution_count": 26,
      "outputs": [
        {
          "output_type": "stream",
          "text": [
            "[(0, 0)]\n",
            "[2]\n",
            "(0, 0)\n"
          ],
          "name": "stdout"
        }
      ]
    },
    {
      "metadata": {
        "id": "_6fJSrgrAg_f",
        "colab_type": "code",
        "colab": {}
      },
      "cell_type": "code",
      "source": [
        "def timestep(agents=agents,shape_coordinates=shape_coordinates):\n",
        "  movable_agents = [i for i,a in enumerate(agents) if len(valid_moves(a))>1]\n",
        "  #print movable_agents\n",
        "  selected_agent = agents[random.choice(movable_agents)]\n",
        "  \n",
        "  #print selected_agent\n",
        "  #print 'valid moves:',valid_moves(selected_agent)\n",
        "  #print 'distance to shape for each move:',[estimated_distance_to_shape(selected_agent,d) for d in valid_moves(selected_agent)]\n",
        "  (x,y) = selected_agent['true_coordinates']\n",
        "  (dx,dy) = chosen_move(selected_agent,shape_coordinates)\n",
        "  #print 'chosen move:',(dx,dy)\n",
        "    \n",
        "  selected_agent['true_coordinates'] = (x+dx,y+dy)\n",
        "  previous_neighbors = selected_agent['neighbors']\n",
        "  \n",
        "  def update_agent(a):\n",
        "    [a['neighbors'],a['distances'],a['estimated_coordinates']] = get_neighbors_distances_estimations(a)\n",
        "  update_agent(selected_agent)\n",
        "  new_neighbors = selected_agent['neighbors']\n",
        "  \n",
        "  agents_to_update = list(set(previous_neighbors).union(set(new_neighbors)))\n",
        "  for i in agents_to_update:\n",
        "    update_agent(agents[i])  \n",
        "\n",
        "def plot_grid():\n",
        "  grid = np.zeros((scaling_factor*L,scaling_factor*L))\n",
        "  for s in shape_coordinates:\n",
        "    grid[s]=0.5\n",
        "  for a in agents:\n",
        "    grid[a['true_coordinates']]=1\n",
        "  plt.imshow(grid)\n",
        "  plt.grid(False)\n",
        "  plt.show()"
      ],
      "execution_count": 0,
      "outputs": []
    },
    {
      "metadata": {
        "id": "OrCIjmMPEd42",
        "colab_type": "code",
        "colab": {
          "base_uri": "https://localhost:8080/",
          "height": 1761
        },
        "outputId": "de42e011-a06f-47ac-e3a6-ad4f32ec414d"
      },
      "cell_type": "code",
      "source": [
        "for t in range(100+1):\n",
        "  timestep()\n",
        "  if t%25==0:\n",
        "    print 't='+str(t)\n",
        "    plot_grid()"
      ],
      "execution_count": 28,
      "outputs": [
        {
          "output_type": "stream",
          "text": [
            "t=0\n"
          ],
          "name": "stdout"
        },
        {
          "output_type": "display_data",
          "data": {
            "image/png": "[encoded data removed]",
            "text/plain": [
              "<matplotlib.figure.Figure at 0x7f18ca5a4c90>"
            ]
          },
          "metadata": {
            "tags": []
          }
        },
        {
          "output_type": "stream",
          "text": [
            "t=25\n"
          ],
          "name": "stdout"
        },
        {
          "output_type": "display_data",
          "data": {
            "image/png": "[encoded data removed]",
            "text/plain": [
              "<matplotlib.figure.Figure at 0x7f18c7c5d450>"
            ]
          },
          "metadata": {
            "tags": []
          }
        },
        {
          "output_type": "stream",
          "text": [
            "t=50\n"
          ],
          "name": "stdout"
        },
        {
          "output_type": "display_data",
          "data": {
            "image/png": "[encoded data removed]",
            "text/plain": [
              "<matplotlib.figure.Figure at 0x7f18c7c76110>"
            ]
          },
          "metadata": {
            "tags": []
          }
        },
        {
          "output_type": "stream",
          "text": [
            "t=75\n"
          ],
          "name": "stdout"
        },
        {
          "output_type": "display_data",
          "data": {
            "image/png": "[encoded data removed]",
            "text/plain": [
              "<matplotlib.figure.Figure at 0x7f18c7c41090>"
            ]
          },
          "metadata": {
            "tags": []
          }
        },
        {
          "output_type": "stream",
          "text": [
            "t=100\n"
          ],
          "name": "stdout"
        },
        {
          "output_type": "display_data",
          "data": {
            "image/png": "[encoded data removed]",
            "text/plain": [
              "<matplotlib.figure.Figure at 0x7f18c7a4f490>"
            ]
          },
          "metadata": {
            "tags": []
          }
        }
      ]
    },
    {
      "metadata": {
        "id": "f-a0VUGC0O4a",
        "colab_type": "code",
        "colab": {}
      },
      "cell_type": "code",
      "source": [
        "[]"
      ],
      "execution_count": 0,
      "outputs": []
    }
  ]
}