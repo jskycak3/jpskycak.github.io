{
  "nbformat": 4,
  "nbformat_minor": 0,
  "metadata": {
    "colab": {
      "name": "lomets.ipynb",
      "version": "0.3.2",
      "provenance": [],
      "collapsed_sections": [],
      "include_colab_link": true
    },
    "kernelspec": {
      "name": "python2",
      "display_name": "Python 2"
    }
  },
  "cells": [
    {
      "cell_type": "markdown",
      "metadata": {
        "id": "view-in-github",
        "colab_type": "text"
      },
      "source": [
        "[View in Colaboratory](https://colab.research.google.com/github/jpskycak/jpskycak.github.io/blob/master/lomets.ipynb)"
      ]
    },
    {
      "metadata": {
        "id": "VC8ggXmCTcCK",
        "colab_type": "text"
      },
      "cell_type": "markdown",
      "source": [
        "LOMETS (https://zhanglab.ccmb.med.umich.edu/papers/2007_1.pdf) is an ensemble model for protein threading consisting of:\n",
        "\n",
        "\n",
        "1.   FUGUE: http://mizuguchilab.org/fugue/#methods\n",
        "2.   HHSEARCH\n",
        "3.   PROSPECT2\n",
        "4.   SAM-T02\n",
        "5.   SPARKS2\n",
        "6.   SP3\n",
        "7.   PAINT\n",
        "8.   PPA-I\n",
        "9.   PPA-II\n",
        "\n"
      ]
    },
    {
      "metadata": {
        "id": "VT3tRPHOUqVN",
        "colab_type": "code",
        "colab": {}
      },
      "cell_type": "code",
      "source": [
        ""
      ],
      "execution_count": 0,
      "outputs": []
    }
  ]
}